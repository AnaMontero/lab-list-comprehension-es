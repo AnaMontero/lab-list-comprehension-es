{
 "cells": [
  {
   "cell_type": "markdown",
   "id": "2f78da88-5977-4056-91de-3afd8258c785",
   "metadata": {},
   "source": [
    "**Digitalizar** </br>\n",
    "https://www.codewars.com/kata/digitize\n",
    "\n",
    "--- \n",
    "\n",
    "Given a non-negative integer, return an array / a list of the individual digits in order.\n",
    "\n",
    "Examples:\n",
    "\n",
    "123 => [1,2,3]\n",
    "\n",
    "1 => [1]\n",
    "\n",
    "8675309 => [8,6,7,5,3,0,9]"
   ]
  },
  {
   "cell_type": "code",
   "execution_count": 1,
   "id": "16888d3e-7232-49cb-a34a-3a86b6fb8aaf",
   "metadata": {},
   "outputs": [
    {
     "name": "stdin",
     "output_type": "stream",
     "text": [
      "Introduce números enteros positivos, p.e: 8675309 --> 1\n"
     ]
    },
    {
     "name": "stdout",
     "output_type": "stream",
     "text": [
      "[1]\n"
     ]
    }
   ],
   "source": [
    "is_positive_integer = False\n",
    "numbers_str = input(\"Introduce números enteros positivos, p.e: 8675309 -->\")\n",
    "\n",
    "try:\n",
    "    numbers = int(numbers_str)\n",
    "    is_positive_integer = True\n",
    "except ValueError:\n",
    "    print(\"Error: Ingresa números enteros positivos.\")\n",
    "\n",
    "if(is_positive_integer):\n",
    "    list_numbers = [int(i) for i in numbers_str]\n",
    "    list_numbers.sort()\n",
    "    print(list_numbers)"
   ]
  },
  {
   "cell_type": "markdown",
   "id": "43414ee3-ecd2-4f57-99f1-035336a1342e",
   "metadata": {},
   "source": [
    "**Arithmetic List!** </br>\n",
    "https://www.codewars.com/kata/541da001259d9ca85d000688\n",
    "\n",
    "---\n",
    "\n",
    "##### DESCRIPTION:\n",
    "In this kata, you will write an arithmetic list which is basically a list that contains consecutive terms in the sequence.\n",
    "You will be given three parameters :\n",
    "\n",
    "* `first` the first term in the sequence\n",
    "* `c` the constant that you are going to ADD ( since it is an arithmetic sequence...)\n",
    "* `l` the number of terms that should be `returned`\n",
    "\n",
    "Useful link: [Sequence](http://en.wikipedia.org/wiki/Sequence]) </br>\n",
    "Be sure to check out my [Arithmetic](http://www.codewars.com/kata/540f8a19a7d43d24ac001018) sequence Kata first ;) </br>\n",
    "Don't forget about the indexing pitfall ;)\n"
   ]
  },
  {
   "cell_type": "code",
   "execution_count": 2,
   "id": "2d56f774-2b16-423e-83e0-5f29b475bf2b",
   "metadata": {},
   "outputs": [
    {
     "name": "stdin",
     "output_type": "stream",
     "text": [
      "first --> 1\n",
      "constant --> 1\n",
      "number of terms --> 1\n"
     ]
    },
    {
     "name": "stdout",
     "output_type": "stream",
     "text": [
      "[1]\n"
     ]
    }
   ],
   "source": [
    "is_valid_number = False\n",
    "first_str = input(\"first -->\")\n",
    "c_str = input(\"constant -->\")\n",
    "l_str = input(\"number of terms -->\")\n",
    "\n",
    "try:\n",
    "    first = int(first_str)\n",
    "    c = int(c_str)\n",
    "    l = int(l_str)\n",
    "    is_valid_number = True\n",
    "except ValueError as error:\n",
    "    print(\"Error: \", error)\n",
    "\n",
    "if(is_valid_number):\n",
    "    arithmetic_list = [(first + c * i) for i in range(l)]\n",
    "    print(arithmetic_list)"
   ]
  },
  {
   "cell_type": "markdown",
   "id": "2c38ddeb-a8ad-4d83-a168-916c54d76c40",
   "metadata": {},
   "source": [
    "**Categorize New Member** </br>\n",
    "https://www.codewars.com/kata/5502c9e7b3216ec63c0001aa\n",
    "\n",
    "---\n",
    "\n",
    "##### DESCRIPTION:\n",
    "The Western Suburbs Croquet Club has two categories of membership, Senior and Open. They would like your help with an application form that will tell prospective members which category they will be placed.\n",
    "\n",
    "To be a senior, a member must be at least 55 years old and have a handicap greater than 7. In this croquet club, handicaps range from -2 to +26; the better the player the lower the handicap.\n",
    "\n",
    "##### Input\n",
    "Input will consist of a list of pairs. Each pair contains information for a single potential member. Information consists of an integer for the person's age and an integer for the person's handicap.\n",
    "\n",
    "##### Output\n",
    "Output will consist of a list of string values (in Haskell and C: `Open` or `Senior`) stating whether the respective member is to be placed in the senior or open category.\n",
    "\n",
    "##### Example\n",
    "```\n",
    "input =  [[18, 20], [45, 2], [61, 12], [37, 6], [21, 21], [78, 9]]\n",
    "output = [\"Open\", \"Open\", \"Senior\", \"Open\", \"Open\", \"Senior\"]\n",
    "```"
   ]
  },
  {
   "cell_type": "code",
   "execution_count": 3,
   "id": "8b67f5d5-440f-4d44-834a-2d4f57ef2c46",
   "metadata": {},
   "outputs": [
    {
     "name": "stdout",
     "output_type": "stream",
     "text": [
      "['Open', 'Open', 'Senior', 'Open', 'Open', 'Senior']\n"
     ]
    }
   ],
   "source": [
    "membership_pairs =  [[18, 20], [45, 2], [61, 12], [37, 6], [21, 21], [78, 9]]\n",
    "category_list = [\"Senior\" if i[0] >= 55 and i[1] > 7 else \"Open\" for i in membership_pairs]\n",
    "\n",
    "print(category_list)"
   ]
  },
  {
   "cell_type": "markdown",
   "id": "5fbdc54d-618a-44a5-8baa-362a0abcbec9",
   "metadata": {},
   "source": [
    "**Queue time counter** </br>\n",
    "https://www.codewars.com/kata/queue-time-counter\n",
    "\n",
    "---\n",
    "\n",
    "DESCRIPTION:\n",
    "You managed to send your friend to queue for tickets in your stead, but there is a catch: he will get there only if you tell him how much that is going to take. And everybody can only take one ticket at a time, then they go back in the last position of the queue if they need more (or go home if they are fine).\n",
    "\n",
    "Each ticket takes one minutes to emit, the queue is well disciplined, [Brit-style](https://www.codewars.com/kata/english-beggars), and so it moves smoothly, with no waste of time.\n",
    "\n",
    "You will be given an array/list/vector with all the people queuing and the _initial_ position of your buddy, so for example, knowing that your friend is in the third position (that we will consider equal to the index, `2`: he is the guy that wants 3 tickets!) and the initial queue is `[2, 5, 3, 4, 6]`.\n",
    "\n",
    "The first dude gets his ticket and the queue goes now like this `[5, 3, 4, 6, 1]`, then `[3, 4, 6, 1, 4]` and so on. In the end, our buddy will be queuing for 12 minutes, true story!\n",
    "\n",
    "Build a function to compute it, resting assured that only positive integers are going to be there and you will be always given a valid index; but we also want to go to pretty popular events, so be ready for big queues with people getting plenty of tickets."
   ]
  },
  {
   "cell_type": "code",
   "execution_count": 4,
   "id": "670246ab-e591-43ab-a90d-1c758c229873",
   "metadata": {},
   "outputs": [
    {
     "name": "stdout",
     "output_type": "stream",
     "text": [
      "initial: [2, 5, 3, 6, 4]\n",
      "[1, 5, 3, 6, 4]\n",
      "[1, 4, 3, 6, 4]\n",
      "[1, 4, 2, 6, 4]\n",
      "[1, 4, 2, 5, 4]\n",
      "[1, 4, 2, 5, 3]\n",
      "[0, 4, 2, 5, 3]\n",
      "[0, 3, 2, 5, 3]\n",
      "[0, 3, 1, 5, 3]\n",
      "[0, 3, 1, 4, 3]\n",
      "[0, 3, 1, 4, 2]\n",
      "[0, 2, 1, 4, 2]\n",
      "[0, 2, 0, 4, 2]\n",
      "[0, 2, 0, 3, 2]\n",
      "[0, 2, 0, 3, 1]\n",
      "[0, 1, 0, 3, 1]\n",
      "[0, 1, 0, 2, 1]\n",
      "[0, 1, 0, 2, 0]\n",
      "[0, 0, 0, 2, 0]\n",
      "[0, 0, 0, 1, 0]\n",
      "[0, 0, 0, 0, 0]\n",
      "Tiempo de espera: 20 minutos\n"
     ]
    }
   ],
   "source": [
    "#Input: [2, 5, 3, 6, 4], 0)\n",
    "#Output: 6\n",
    "\n",
    "people_in_queue = [2, 5, 3, 6, 4]\n",
    "friend_position = 0\n",
    "\n",
    "waiting_time = 0\n",
    "tickets_for_friend = people_in_queue[friend_position]\n",
    "\n",
    "print(f\"initial: {people_in_queue}\")\n",
    "\n",
    "while(any(person != 0 for person in people_in_queue)):\n",
    "    for i in range(len(people_in_queue)):\n",
    "        if(people_in_queue[i] != 0):\n",
    "            people_in_queue[i] -= 1\n",
    "            waiting_time += 1\n",
    "            print(people_in_queue)\n",
    "\n",
    "print(f\"Tiempo de espera: {waiting_time} minutos\")"
   ]
  }
 ],
 "metadata": {
  "kernelspec": {
   "display_name": "Python 3 (ipykernel)",
   "language": "python",
   "name": "python3"
  },
  "language_info": {
   "codemirror_mode": {
    "name": "ipython",
    "version": 3
   },
   "file_extension": ".py",
   "mimetype": "text/x-python",
   "name": "python",
   "nbconvert_exporter": "python",
   "pygments_lexer": "ipython3",
   "version": "3.10.12"
  }
 },
 "nbformat": 4,
 "nbformat_minor": 5
}
